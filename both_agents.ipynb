{
 "cells": [
  {
   "cell_type": "code",
   "execution_count": 3,
   "metadata": {},
   "outputs": [],
   "source": [
    "import os\n",
    "from langchain_together import Together\n",
    "llm = Together(\n",
    "    model=\"mistralai/Mixtral-8x7B-Instruct-v0.1\",\n",
    "    temperature=0,\n",
    "    max_tokens=256,\n",
    "    top_k=1,\n",
    "    together_api_key=os.getenv(\"TOGETHER_API_KEY\")\n",
    ")"
   ]
  },
  {
   "cell_type": "code",
   "execution_count": 4,
   "metadata": {},
   "outputs": [],
   "source": [
    "from langchain import hub\n",
    "\n",
    "# Get the prompt to use - you can modify this!\n",
    "prompt = hub.pull(\"hwchase17/structured-chat-agent\")"
   ]
  },
  {
   "cell_type": "code",
   "execution_count": 5,
   "metadata": {},
   "outputs": [],
   "source": [
    "prompt[0].prompt.template = prompt[0].prompt.template[0:394] + \"```\\n\\n\\nFor example, if you want to use a tool to get an image's caption, your $JSON_BLOB might look like this:\\n\\n```\\n{{\\n    'action': 'image_captioner_json', \\n    'action_input': {{'query': 'images url'}}\\n}}```\" + \"```\\n\\n\\nIf you want to use a tool to search for information, your $JSON_BLOB might look like this:\\n\\n```\\n{{\\n    'action': 'tavily_search_results_json', \\n    'action_input': {{'query': 'Example search query'}}\\n}}```\"  +prompt[0].prompt.template[394:]"
   ]
  },
  {
   "cell_type": "code",
   "execution_count": 6,
   "metadata": {},
   "outputs": [],
   "source": [
    "from transformers import BlipProcessor, BlipForConditionalGeneration\n",
    "\n",
    "blip_processor = BlipProcessor.from_pretrained(\"Salesforce/blip-image-captioning-base\")\n",
    "blip_model = BlipForConditionalGeneration.from_pretrained(\"Salesforce/blip-image-captioning-base\")"
   ]
  },
  {
   "cell_type": "code",
   "execution_count": 7,
   "metadata": {},
   "outputs": [],
   "source": [
    "from langchain.tools import tool\n",
    "from langchain.pydantic_v1 import BaseModel, Field\n",
    "#from pydantic import BaseModel, Field\n",
    "import requests\n",
    "from PIL import Image\n",
    "\n",
    "class ImageCaptionerInput(BaseModel):\n",
    "    image_url: str = Field(description=\"URL of the image that is to be described\")\n",
    "\n",
    "\n",
    "@tool(\"image_captioner\", return_direct=True, args_schema=ImageCaptionerInput)\n",
    "def image_captioner(image_url: str) -> str:\n",
    "    \"\"\"Provides information about the image\"\"\"\n",
    "    raw_image = Image.open(requests.get(image_url, stream=True).raw).convert('RGB')\n",
    "    inputs = blip_processor(raw_image, return_tensors=\"pt\")\n",
    "    out = blip_model.generate(**inputs)\n",
    "    return blip_processor.decode(out[0], skip_special_tokens=True)"
   ]
  },
  {
   "cell_type": "code",
   "execution_count": 8,
   "metadata": {},
   "outputs": [],
   "source": [
    "import os\n",
    "from langchain_community.tools.tavily_search import TavilySearchResults\n",
    "TAVILY_API_KEY=os.getenv(\"TAVILY_API_KEY\")\n",
    "search = TavilySearchResults(max_results=1)"
   ]
  },
  {
   "cell_type": "code",
   "execution_count": 9,
   "metadata": {},
   "outputs": [],
   "source": [
    "tools = [image_captioner, search]"
   ]
  },
  {
   "cell_type": "code",
   "execution_count": 10,
   "metadata": {},
   "outputs": [],
   "source": [
    "from langchain.agents import AgentExecutor, create_openai_tools_agent, create_structured_chat_agent\n",
    "#agent = create_openai_tools_agent(llm,tools,prompt)\n",
    "agent = create_structured_chat_agent(llm, tools, prompt)"
   ]
  },
  {
   "cell_type": "code",
   "execution_count": 11,
   "metadata": {},
   "outputs": [],
   "source": [
    "from langchain.agents import AgentExecutor\n",
    "\n",
    "agent_executor = AgentExecutor(agent=agent, tools=tools, verbose=True, handle_parsing_errors=True)"
   ]
  },
  {
   "cell_type": "code",
   "execution_count": 12,
   "metadata": {},
   "outputs": [
    {
     "name": "stdout",
     "output_type": "stream",
     "text": [
      "\n",
      "\n",
      "\u001b[1m> Entering new AgentExecutor chain...\u001b[0m\n",
      "\u001b[32;1m\u001b[1;3m\n",
      "\n",
      "Thought: The user has greeted me. I will greet them back.\n",
      "Action:\n",
      "```\n",
      "{\n",
      "  \"action\": \"Final Answer\",\n",
      "  \"action_input\": \"Hello! How can I help you today?\"\n",
      "}\n",
      "```\n",
      "\u001b[0m\n",
      "\n",
      "\u001b[1m> Finished chain.\u001b[0m\n"
     ]
    },
    {
     "data": {
      "text/plain": [
       "{'input': 'HI', 'output': 'Hello! How can I help you today?'}"
      ]
     },
     "execution_count": 12,
     "metadata": {},
     "output_type": "execute_result"
    }
   ],
   "source": [
    "agent_executor.invoke({\"input\": \"HI\"})"
   ]
  },
  {
   "cell_type": "code",
   "execution_count": 13,
   "metadata": {},
   "outputs": [
    {
     "name": "stdout",
     "output_type": "stream",
     "text": [
      "\n",
      "\n",
      "\u001b[1m> Entering new AgentExecutor chain...\u001b[0m\n",
      "\u001b[32;1m\u001b[1;3m\n",
      "Thought: The user is asking about the current weather in Santiago, Chile. I can use a search tool to find this information.\n",
      "Action:\n",
      "```\n",
      "{\n",
      "  \"action\": \"tavily_search_results_json\",\n",
      "  \"action_input\": {\n",
      "    \"query\": \"current weather in Santiago, Chile\"\n",
      "  }\n",
      "}\n",
      "```\n",
      "\u001b[0m\u001b[33;1m\u001b[1;3m[{'url': 'https://en.mercopress.com/2024/02/03/heat-wave-grips-argentina-chile-uruguay-paraguay-and-brazil', 'content': 'Chile, Uruguay, and Paraguay with temperatures reaching 48 degrees Celsius and forecast to remain around or above 40  - 19:30 UTC Heat wave grips Argentina, Chile, Uruguay, Paraguay and Brazil  MercoPress, en Español Montevideo, February 3rd 2024 - 19:30 UTC  do Sul (south), according to the meteorological information agency MetSul.The unusually hot weather is expected to stay around at least for a week. Media reports all across the Southern Cone Friday underlined the heat wave affecting Argentina, Brazil, Chile, Uruguay ...'}]\u001b[0m\u001b[32;1m\u001b[1;3m\n",
      "Action:\n",
      "```\n",
      "{\n",
      "  \"action\": \"Final Answer\",\n",
      "  \"action_input\": \"The current weather in Santiago, Chile is very hot, with temperatures reaching 48 degrees Celsius and forecast to remain around or above 40 degrees for at least a week.\"\n",
      "}\n",
      "```\n",
      "\u001b[0m\n",
      "\n",
      "\u001b[1m> Finished chain.\u001b[0m\n"
     ]
    },
    {
     "data": {
      "text/plain": [
       "{'input': 'Cual es el tiempo en Santiago de Chile ahora?',\n",
       " 'output': 'The current weather in Santiago, Chile is very hot, with temperatures reaching 48 degrees Celsius and forecast to remain around or above 40 degrees for at least a week.'}"
      ]
     },
     "execution_count": 13,
     "metadata": {},
     "output_type": "execute_result"
    }
   ],
   "source": [
    "agent_executor.invoke({\"input\": \"Cual es el tiempo en Santiago de Chile ahora?\"})"
   ]
  },
  {
   "cell_type": "code",
   "execution_count": 14,
   "metadata": {},
   "outputs": [
    {
     "name": "stdout",
     "output_type": "stream",
     "text": [
      "\n",
      "\n",
      "\u001b[1m> Entering new AgentExecutor chain...\u001b[0m\n",
      "\u001b[32;1m\u001b[1;3m\n",
      "Thought: I need to describe the image. I will use the image_captioner tool.\n",
      "Action:\n",
      "```\n",
      "{\n",
      "  \"action\": \"image_captioner\",\n",
      "  \"action_input\": {\n",
      "    \"image_url\": \"https://www.barcelo.com/guia-turismo/wp-content/uploads/2020/06/lago-di-como.jpg\"\n",
      "  }\n",
      "}\n",
      "```\n",
      "\u001b[0m"
     ]
    },
    {
     "name": "stderr",
     "output_type": "stream",
     "text": [
      "/Users/clemente/micromamba/envs/py311/lib/python3.11/site-packages/transformers/generation/utils.py:1133: UserWarning: Using the model-agnostic default `max_length` (=20) to control the generation length. We recommend setting `max_new_tokens` to control the maximum length of the generation.\n",
      "  warnings.warn(\n"
     ]
    },
    {
     "name": "stdout",
     "output_type": "stream",
     "text": [
      "\u001b[36;1m\u001b[1;3ma lake with a boat in it\u001b[0m\n",
      "\u001b[32;1m\u001b[1;3m\u001b[0m\n",
      "\n",
      "\u001b[1m> Finished chain.\u001b[0m\n"
     ]
    },
    {
     "data": {
      "text/plain": [
       "{'input': 'Que hay en esta imagen https://www.barcelo.com/guia-turismo/wp-content/uploads/2020/06/lago-di-como.jpg',\n",
       " 'output': 'a lake with a boat in it'}"
      ]
     },
     "execution_count": 14,
     "metadata": {},
     "output_type": "execute_result"
    }
   ],
   "source": [
    "agent_executor.invoke({\"input\": \"Que hay en esta imagen https://www.barcelo.com/guia-turismo/wp-content/uploads/2020/06/lago-di-como.jpg\"})"
   ]
  }
 ],
 "metadata": {
  "kernelspec": {
   "display_name": "Python py311",
   "language": "python",
   "name": "py311"
  },
  "language_info": {
   "codemirror_mode": {
    "name": "ipython",
    "version": 3
   },
   "file_extension": ".py",
   "mimetype": "text/x-python",
   "name": "python",
   "nbconvert_exporter": "python",
   "pygments_lexer": "ipython3",
   "version": "3.11.7"
  }
 },
 "nbformat": 4,
 "nbformat_minor": 2
}
