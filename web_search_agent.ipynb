{
 "cells": [
  {
   "cell_type": "markdown",
   "metadata": {},
   "source": [
    "# Web search Agent with tavily\n",
    "\n",
    "https://python.langchain.com/docs/modules/agents/quick_start\n",
    "\n"
   ]
  },
  {
   "cell_type": "code",
   "execution_count": 1,
   "metadata": {},
   "outputs": [],
   "source": [
    "import os\n",
    "from langchain_community.tools.tavily_search import TavilySearchResults\n",
    "TAVILY_API_KEY=os.getenv(\"TAVILY_API_KEY\")\n",
    "search = TavilySearchResults(max_results=1)"
   ]
  },
  {
   "cell_type": "code",
   "execution_count": 2,
   "metadata": {},
   "outputs": [],
   "source": [
    "tools = [search]"
   ]
  },
  {
   "cell_type": "code",
   "execution_count": 3,
   "metadata": {},
   "outputs": [
    {
     "data": {
      "text/plain": [
       "[{'url': 'https://enciclopediadehistoria.com/dictadura-militar-en-chile/',\n",
       "  'content': 'Régimen dictatorial establecido por el general chileno Augusto Pinochet Ugarte, en 1973 que se prolongó hasta 1990.  ¿Qué fue la dictadura militar en Chile?  democristiano Patricio Aylwin. Su asunción, el 11 de marzo de 1990, puso un fin a la dictadura militar en Chile.  golpe de Estado de 1973.La dictadura militar en Chile fue un régimen dictatorial encabezado por el general Augusto Pinochet Ugarte, que comenzó el 11 de septiembre de 1973 y finalizó el 11 de marzo de 1990. Ese período de 17 años se inició con un golpe de Estado que derrocó al gobierno constitucional del presidente socialista Salvador Allende, quien gobernaba desde 1970.'}]"
      ]
     },
     "execution_count": 3,
     "metadata": {},
     "output_type": "execute_result"
    }
   ],
   "source": [
    "search('año comienzo dictadura militar chilena')"
   ]
  },
  {
   "cell_type": "code",
   "execution_count": 4,
   "metadata": {},
   "outputs": [],
   "source": [
    "from langchain_together import Together\n",
    "llm = Together(\n",
    "    model=\"mistralai/Mixtral-8x7B-Instruct-v0.1\",\n",
    "    temperature=0,\n",
    "    max_tokens=256,\n",
    "    top_k=1,\n",
    "    together_api_key=os.getenv(\"TOGETHER_API_KEY\")\n",
    ")"
   ]
  },
  {
   "cell_type": "code",
   "execution_count": 23,
   "metadata": {},
   "outputs": [],
   "source": [
    "from langchain import hub\n",
    "\n",
    "# Get the prompt to use - you can modify this!\n",
    "prompt = hub.pull(\"hwchase17/structured-chat-agent\")"
   ]
  },
  {
   "cell_type": "code",
   "execution_count": 24,
   "metadata": {},
   "outputs": [],
   "source": [
    "prompt[0].prompt.template = prompt[0].prompt.template[0:394] + \"```\\n\\n\\nFor example, if you want to use a tool to search for information, your $JSON_BLOB might look like this:\\n\\n```\\n{{\\n    'action': 'tavily_search_results_json', \\n    'action_input': {{'query': 'Example search query'}}\\n}}```\" + prompt[0].prompt.template[394:]"
   ]
  },
  {
   "cell_type": "code",
   "execution_count": 25,
   "metadata": {},
   "outputs": [],
   "source": [
    "from langchain.agents import create_openai_functions_agent\n",
    "from langchain.agents import AgentExecutor, create_openai_tools_agent, create_structured_chat_agent\n",
    "#agent = create_openai_tools_agent(llm,tools,prompt)\n",
    "agent = create_structured_chat_agent(llm, tools, prompt)"
   ]
  },
  {
   "cell_type": "code",
   "execution_count": 26,
   "metadata": {},
   "outputs": [],
   "source": [
    "from langchain.agents import AgentExecutor\n",
    "\n",
    "agent_executor = AgentExecutor(agent=agent, tools=tools, verbose=True, handle_parsing_errors=True)"
   ]
  },
  {
   "cell_type": "code",
   "execution_count": 28,
   "metadata": {},
   "outputs": [
    {
     "name": "stdout",
     "output_type": "stream",
     "text": [
      "\n",
      "\n",
      "\u001b[1m> Entering new AgentExecutor chain...\u001b[0m\n",
      "\u001b[32;1m\u001b[1;3m\n",
      "Thought: The user is asking about the current weather in Santiago, Chile. I can use the tavily_search_results_json tool to find this information.\n",
      "Action:\n",
      "```\n",
      "{\n",
      "  \"action\": \"tavily_search_results_json\",\n",
      "  \"action_input\": {\n",
      "    \"query\": \"current weather in Santiago, Chile\"\n",
      "  }\n",
      "}\n",
      "```\n",
      "\u001b[0m\u001b[36;1m\u001b[1;3m[{'url': 'https://crisis24.garda.com/alerts/2024/01/chile-high-temperatures-forecast-in-the-santiago-metropolitan-region-through-at-least-feb-2', 'content': \"Find Out More Chile: High temperatures forecast in the Santiago Metropolitan Region through at least Feb. 2  Chilean Meteorological Directorate Learn more Get Unlimited Access Webinar Webinar Webinar Follow us on:  Officials issue red alert for extreme heat in Chile's Santiago Metropolitan Region until Feb. 2. Transport, utility  High temperatures will likely persist across much of Chile's Santiago Metropolitan Region through at least Feb. 2. The29 Jan 2024 | 02:40 AM UTC Chile: High temperatures forecast in the Santiago Metropolitan Region through at least Feb. 2 ... High temperatures will likely persist across much of Chile's Santiago Metropolitan Region through at least Feb. 2. The National Disaster Prevention and Response Service (SENAPRED) has issued a red alert (the highest level ...\"}]\u001b[0m\u001b[32;1m\u001b[1;3m\n",
      "Action:\n",
      "```\n",
      "{\n",
      "  \"action\": \"Final Answer\",\n",
      "  \"action_input\": \"High temperatures are forecast in the Santiago Metropolitan Region through at least Feb. 2.\"\n",
      "}\n",
      "```\n",
      "\u001b[0m\n",
      "\n",
      "\u001b[1m> Finished chain.\u001b[0m\n"
     ]
    },
    {
     "data": {
      "text/plain": [
       "{'input': 'Cual es el tiempo en Santiago de Chile ahora?',\n",
       " 'output': 'High temperatures are forecast in the Santiago Metropolitan Region through at least Feb. 2.'}"
      ]
     },
     "execution_count": 28,
     "metadata": {},
     "output_type": "execute_result"
    }
   ],
   "source": [
    "agent_executor.invoke({\"input\": \"Cual es el tiempo en Santiago de Chile ahora?\"})"
   ]
  }
 ],
 "metadata": {
  "kernelspec": {
   "display_name": "Python py311",
   "language": "python",
   "name": "py311"
  },
  "language_info": {
   "codemirror_mode": {
    "name": "ipython",
    "version": 3
   },
   "file_extension": ".py",
   "mimetype": "text/x-python",
   "name": "python",
   "nbconvert_exporter": "python",
   "pygments_lexer": "ipython3",
   "version": "3.11.7"
  }
 },
 "nbformat": 4,
 "nbformat_minor": 2
}
